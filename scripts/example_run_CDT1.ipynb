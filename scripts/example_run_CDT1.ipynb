{
 "cells": [
  {
   "cell_type": "markdown",
   "id": "1db3d8ed",
   "metadata": {},
   "source": [
    "## Case Study: Finding protein-protein interaction pathways of DNA replication factor CDT1\n",
    "\n",
    "For more information on DNA replication factor CDT1, reference https://www.ncbi.nlm.nih.gov/protein/NP_112190.2"
   ]
  },
  {
   "cell_type": "code",
   "execution_count": 1,
   "id": "3a82a10f",
   "metadata": {},
   "outputs": [],
   "source": [
    "import numpy as np\n",
    "\n",
    "DESIRED_PROTEIN_NAME = 'CDT1'"
   ]
  },
  {
   "cell_type": "code",
   "execution_count": 2,
   "id": "e3bf210f",
   "metadata": {},
   "outputs": [],
   "source": [
    "def find_all_elements(arr, target):\n",
    "    arr = np.array(arr)\n",
    "\n",
    "    occurrences = []\n",
    "    for i in range(len(arr)):\n",
    "        for j in range(len(arr[i])):\n",
    "            if arr[i][j] == target:\n",
    "                occurrences.append((i, j))  # Append the indices of the element if found\n",
    "    indices = np.array(occurrences)\n",
    "    return arr[indices[:,0],:]"
   ]
  },
  {
   "cell_type": "code",
   "execution_count": 3,
   "id": "01522756",
   "metadata": {},
   "outputs": [],
   "source": [
    "def print_first_n_lines(data, n):\n",
    "    data = np.array(data)\n",
    "    print(f\"Displaying first {n} rows of {data.shape[0]}:\")\n",
    "    for row in data[:n]:\n",
    "        if isinstance(row, tuple):\n",
    "            print(*row)\n",
    "        else:\n",
    "            print(row)\n",
    "    print(f\"... {data[:,0].size - n} more rows\")"
   ]
  },
  {
   "cell_type": "markdown",
   "id": "b661172c",
   "metadata": {},
   "source": [
    "### 1) Import ppi confidence values from HIPPIE dataset (```*.mitab```)\n",
    "\n",
    "#### Human Integrated Protein-Protein Interaction rEference\n",
    "Download ```HIPPIE tab format``` from https://cbdm-01.zdv.uni-mainz.de/~mschaefer/hippie/download.php as ```HIPPIE-current.mitab```"
   ]
  },
  {
   "cell_type": "code",
   "execution_count": 4,
   "id": "4cc2ca35",
   "metadata": {},
   "outputs": [
    {
     "name": "stdout",
     "output_type": "stream",
     "text": [
      "Selected C:/Users/enoch/OneDrive/Documents/GitHub/ppi-prediction-goa/assets/HIPPIE-current.mitab.txt\n",
      "Displaying first 5 lines:\n",
      "['AL1A1' 'AL1A1' '0.76']\n",
      "['ITA7' 'ACHA' '0.73']\n",
      "['NEB1' 'ACTG' '0.65']\n",
      "['SRGN' 'CD44' '0.63']\n",
      "['GRB7' 'ERBB2' '0.9']\n",
      "Displaying first 5 rows of 79:\n",
      "['CDT1' 'ORC2' '0.76']\n",
      "['CDT1' 'SKP2' '0.9']\n",
      "['CDT1' 'MCM6' '0.97']\n",
      "['CDT1' 'ORC1' '0.7']\n",
      "['CDT1' 'CDC6' '0.89']\n",
      "... 74 more rows\n"
     ]
    }
   ],
   "source": [
    "import parse_mitab\n",
    "\n",
    "ppis = parse_mitab.ppis\n",
    "desired_ppis = find_all_elements(ppis, DESIRED_PROTEIN_NAME)\n",
    "print_first_n_lines(desired_ppis, n=5)"
   ]
  },
  {
   "cell_type": "markdown",
   "id": "2e3a2305",
   "metadata": {},
   "source": [
    "### 2) Import gene ontology annotations of *Homo sapiens* (```*.gaf```)\n",
    "\n",
    "Download the following entry:\n",
    "* Species: Homo sapiens\n",
    "* Database: EBI Gene Ontology Annotation Database (goa)\n",
    "* Entity type: protein\n",
    "* Annotations: 638780\n",
    "\n",
    "from https://current.geneontology.org/products/pages/downloads.html as ```goa_human.gaf```"
   ]
  },
  {
   "cell_type": "code",
   "execution_count": 5,
   "id": "98be32cf",
   "metadata": {
    "scrolled": false
   },
   "outputs": [
    {
     "name": "stdout",
     "output_type": "stream",
     "text": [
      "Selected C:/Users/enoch/OneDrive/Documents/GitHub/ppi-prediction-goa/assets/goa_human.gaf\n",
      "Displaying first 5 lines:\n",
      "['UniProtKB', 'A0A024RBG1', 'NUDT4B', 'enables', 'GO:0003723', 'GO_REF:0000043', 'IEA', 'UniProtKB-KW:KW-0694', 'F', 'Diphosphoinositol polyphosphate phosphohydrolase NUDT4B', 'NUDT4B', 'protein', 'taxon:9606', '20231122', 'UniProt']\n",
      "['UniProtKB', 'A0A024RBG1', 'NUDT4B', 'enables', 'GO:0046872', 'GO_REF:0000043', 'IEA', 'UniProtKB-KW:KW-0479', 'F', 'Diphosphoinositol polyphosphate phosphohydrolase NUDT4B', 'NUDT4B', 'protein', 'taxon:9606', '20231122', 'UniProt']\n",
      "['UniProtKB', 'A0A024RBG1', 'NUDT4B', 'located_in', 'GO:0005829', 'GO_REF:0000052', 'IDA', '', 'C', 'Diphosphoinositol polyphosphate phosphohydrolase NUDT4B', 'NUDT4B', 'protein', 'taxon:9606', '20230619', 'HPA']\n",
      "['UniProtKB', 'A0A075B6H7', 'IGKV3-7', 'involved_in', 'GO:0002250', 'GO_REF:0000043', 'IEA', 'UniProtKB-KW:KW-1064', 'P', 'Probable non-functional immunoglobulin kappa variable 3-7', 'IGKV3-7', 'protein', 'taxon:9606', '20231122', 'UniProt']\n",
      "['UniProtKB', 'A0A075B6H7', 'IGKV3-7', 'located_in', 'GO:0005886', 'GO_REF:0000044', 'IEA', 'UniProtKB-SubCell:SL-0039', 'C', 'Probable non-functional immunoglobulin kappa variable 3-7', 'IGKV3-7', 'protein', 'taxon:9606', '20231122', 'UniProt']\n",
      "Displaying first 5 rows of 60:\n",
      "['CDT1' 'enables' 'GO:0003677' 'ISS' 'F' '20041109']\n",
      "['CDT1' 'enables' 'GO:0003682' 'IDA' 'F' '20160725']\n",
      "['CDT1' 'enables' 'GO:0005515' 'IPI' 'F' '20231125']\n",
      "['CDT1' 'enables' 'GO:0005515' 'IPI' 'F' '20231125']\n",
      "['CDT1' 'enables' 'GO:0005515' 'IPI' 'F' '20231125']\n",
      "... 55 more rows\n"
     ]
    }
   ],
   "source": [
    "import parse_gaf\n",
    "\n",
    "gaf_data = parse_gaf.gaf_data\n",
    "desired_cols = [2, 3, 4, 6, 8, 13]\n",
    "human_prots = [[row[i] for i in desired_cols] for row in gaf_data]\n",
    "\n",
    "go_curr_protein = find_all_elements(human_prots, DESIRED_PROTEIN_NAME)\n",
    "print_first_n_lines(go_curr_protein, n=5)"
   ]
  },
  {
   "cell_type": "code",
   "execution_count": 6,
   "id": "e1288ca1",
   "metadata": {},
   "outputs": [
    {
     "name": "stdout",
     "output_type": "stream",
     "text": [
      "Displaying first 5 rows of 22:\n",
      "['GO:0035563']\n",
      "['GO:0000076']\n",
      "['GO:0005654']\n",
      "['GO:0071163']\n",
      "['GO:0033262']\n",
      "... 17 more rows\n"
     ]
    }
   ],
   "source": [
    "go_terms_for_prot = set(go_curr_protein[:,2])\n",
    "num_go_terms = len(go_terms_for_prot)\n",
    "\n",
    "go_terms_for_prot = np.array(list(go_terms_for_prot))\n",
    "go_terms_for_prot = go_terms_for_prot.reshape(-1, 1)\n",
    "print_first_n_lines(go_terms_for_prot, n=5)"
   ]
  },
  {
   "cell_type": "markdown",
   "id": "9e90ec58",
   "metadata": {},
   "source": [
    "### 3) Import the Gene Ontology database (```*.obo```)\n",
    "\n",
    "Download ```go-basic.obo``` from https://current.geneontology.org/ontology/go-basic.obo\n",
    "\n",
    "Then, separately run ```go-basic.obo``` in ```obo_to_txt.py``` and get the output file, ```go-basic.txt```"
   ]
  },
  {
   "cell_type": "code",
   "execution_count": null,
   "id": "519e3aba",
   "metadata": {},
   "outputs": [],
   "source": [
    "from conversion import obo_to_txt\n",
    "import process_GO_terms_txt\n",
    "\n",
    "go_terms = process_GO_terms_txt.go_terms\n",
    "go_terms = np.array(go_terms)\n",
    "print_first_n_lines(go_terms, n=5)"
   ]
  },
  {
   "cell_type": "code",
   "execution_count": null,
   "id": "81dd2967",
   "metadata": {},
   "outputs": [],
   "source": [
    "collisions = []\n",
    "\n",
    "for i in range(go_terms[:,0].size):\n",
    "    if np.any(go_terms_for_prot == go_terms[i,16]):\n",
    "        collisions.append(go_terms[i,:])\n",
    "\n",
    "print_first_n_lines(collisions, n=5)"
   ]
  }
 ],
 "metadata": {
  "kernelspec": {
   "display_name": "Python 3 (ipykernel)",
   "language": "python",
   "name": "python3"
  },
  "language_info": {
   "codemirror_mode": {
    "name": "ipython",
    "version": 3
   },
   "file_extension": ".py",
   "mimetype": "text/x-python",
   "name": "python",
   "nbconvert_exporter": "python",
   "pygments_lexer": "ipython3",
   "version": "3.11.5"
  }
 },
 "nbformat": 4,
 "nbformat_minor": 5
}
